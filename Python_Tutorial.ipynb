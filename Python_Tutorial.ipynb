{
 "cells": [
  {
   "cell_type": "markdown",
   "metadata": {
    "id": "UPsEJoxH6j1l"
   },
   "source": [
    "---\n",
    "## A tutorial for basic python programming\n",
    "---"
   ]
  },
  {
   "cell_type": "markdown",
   "metadata": {},
   "source": [
    "## Table of Contents\n",
    "1. [Calculator](#Calculator)\n",
    "2. [Types](#Types)\n",
    "3. [Bugs](#Bugs)\n",
    "4. [Conditionals](#Conditionals)\n",
    "5. [Lists](#Lists)\n",
    "6. [Sets](#Sets)\n",
    "7. [Dictionaries](#Dictionaries)\n",
    "8. [Programming](#A-step-towards-programming)\n",
    "9. [Modules](#Modules)\n",
    "10. [Plots](#Plots)\n"
   ]
  },
  {
   "cell_type": "markdown",
   "metadata": {},
   "source": [
    "### more online tutorials\n",
    "If you feel the need for more resources, it's worth noting that there are numerous Python tutorials available, suitable for different skill levels. Below, I've provided three somewhat random links to help you get started:\n",
    "\n",
    "[stackify](https://stackify.com/learn-python-tutorials/)\n",
    "\n",
    "[kaggle](https://www.kaggle.com/learn/python)\n",
    "\n",
    "[learnpython](https://www.learnpython.org/)\n",
    "\n",
    "\n"
   ]
  },
  {
   "cell_type": "markdown",
   "metadata": {},
   "source": [
    "# Calculator"
   ]
  },
  {
   "cell_type": "markdown",
   "metadata": {
    "id": "iLNJPT4qSyv7"
   },
   "source": [
    "### Basic usage as a calculator"
   ]
  },
  {
   "cell_type": "code",
   "execution_count": null,
   "metadata": {
    "colab": {
     "base_uri": "https://localhost:8080/"
    },
    "executionInfo": {
     "elapsed": 4,
     "status": "ok",
     "timestamp": 1664729021436,
     "user": {
      "displayName": "Jörg Menche",
      "userId": "13346392048312248628"
     },
     "user_tz": -120
    },
    "id": "iVVXEDgSS7hr",
    "outputId": "f56776af-9f19-4da6-f418-fb3f2d40ae55"
   },
   "outputs": [],
   "source": [
    "1+1"
   ]
  },
  {
   "cell_type": "code",
   "execution_count": null,
   "metadata": {
    "colab": {
     "base_uri": "https://localhost:8080/"
    },
    "executionInfo": {
     "elapsed": 362,
     "status": "ok",
     "timestamp": 1664729021795,
     "user": {
      "displayName": "Jörg Menche",
      "userId": "13346392048312248628"
     },
     "user_tz": -120
    },
    "id": "7QcqRBuuS8fR",
    "outputId": "5f69a2c8-56f5-4bdf-dc11-7a9d6f4e116c"
   },
   "outputs": [],
   "source": [
    "6/3"
   ]
  },
  {
   "cell_type": "code",
   "execution_count": null,
   "metadata": {
    "colab": {
     "base_uri": "https://localhost:8080/"
    },
    "executionInfo": {
     "elapsed": 15,
     "status": "ok",
     "timestamp": 1664729021795,
     "user": {
      "displayName": "Jörg Menche",
      "userId": "13346392048312248628"
     },
     "user_tz": -120
    },
    "id": "8Z5dEYL8S9uX",
    "outputId": "7579ab17-37fa-4674-f41f-25e870829944"
   },
   "outputs": [],
   "source": [
    "(50-5*6)/4"
   ]
  },
  {
   "cell_type": "code",
   "execution_count": null,
   "metadata": {
    "colab": {
     "base_uri": "https://localhost:8080/"
    },
    "executionInfo": {
     "elapsed": 13,
     "status": "ok",
     "timestamp": 1664729021795,
     "user": {
      "displayName": "Jörg Menche",
      "userId": "13346392048312248628"
     },
     "user_tz": -120
    },
    "id": "q-k6R_PvTDby",
    "outputId": "af4aec8d-29f4-4bf9-a269-07359308b327"
   },
   "outputs": [],
   "source": [
    "6/-3"
   ]
  },
  {
   "cell_type": "code",
   "execution_count": null,
   "metadata": {
    "colab": {
     "base_uri": "https://localhost:8080/"
    },
    "executionInfo": {
     "elapsed": 11,
     "status": "ok",
     "timestamp": 1664729021795,
     "user": {
      "displayName": "Jörg Menche",
      "userId": "13346392048312248628"
     },
     "user_tz": -120
    },
    "id": "K7mF5gvHTFnk",
    "outputId": "72903403-568c-4d74-dcb4-35c291fbf5e2"
   },
   "outputs": [],
   "source": [
    "8/3"
   ]
  },
  {
   "cell_type": "code",
   "execution_count": null,
   "metadata": {
    "colab": {
     "base_uri": "https://localhost:8080/"
    },
    "executionInfo": {
     "elapsed": 10,
     "status": "ok",
     "timestamp": 1664729021796,
     "user": {
      "displayName": "Jörg Menche",
      "userId": "13346392048312248628"
     },
     "user_tz": -120
    },
    "id": "tGjb_I5pTGlE",
    "outputId": "dffbdd76-9813-48bc-d342-41f0c886cc65"
   },
   "outputs": [],
   "source": [
    "# <= this character is used to write comments. Everything that comes afterwards will be ignored by the python interpreter\n",
    "6**2 # powers are indicated by two star symbols <= comments can also be in the middle of the line"
   ]
  },
  {
   "cell_type": "code",
   "execution_count": null,
   "metadata": {
    "colab": {
     "base_uri": "https://localhost:8080/"
    },
    "executionInfo": {
     "elapsed": 9,
     "status": "ok",
     "timestamp": 1664729021796,
     "user": {
      "displayName": "Jörg Menche",
      "userId": "13346392048312248628"
     },
     "user_tz": -120
    },
    "id": "RApMQdXKTTwb",
    "outputId": "65cc8525-85f0-435a-822b-536cb4d24a0e"
   },
   "outputs": [],
   "source": [
    "36**(1/2)"
   ]
  },
  {
   "cell_type": "markdown",
   "metadata": {
    "id": "TYleoEbom4tI"
   },
   "source": [
    "### I am a Markdown cell for code documentation.\n",
    "\n",
    "In here characters are not interpreted as code and follow some simple formating [rules](www.markdownguide.org)."
   ]
  },
  {
   "cell_type": "markdown",
   "metadata": {
    "id": "rxHiJgcVbVUx"
   },
   "source": [
    "# Types"
   ]
  },
  {
   "cell_type": "markdown",
   "metadata": {
    "id": "Nvfhofhcde4m"
   },
   "source": [
    "### Numbers\n",
    "\n",
    "The most basic data type in python are simply numbers The basic math operations do what you would expect them to do."
   ]
  },
  {
   "cell_type": "code",
   "execution_count": null,
   "metadata": {
    "colab": {
     "base_uri": "https://localhost:8080/"
    },
    "executionInfo": {
     "elapsed": 8,
     "status": "ok",
     "timestamp": 1664729021796,
     "user": {
      "displayName": "Jörg Menche",
      "userId": "13346392048312248628"
     },
     "user_tz": -120
    },
    "id": "ty8oJ16y3jdQ",
    "outputId": "2016d9eb-7e1a-49b4-8715-58a5a07e41d6"
   },
   "outputs": [],
   "source": [
    "1 + 1"
   ]
  },
  {
   "cell_type": "code",
   "execution_count": null,
   "metadata": {},
   "outputs": [],
   "source": []
  },
  {
   "cell_type": "code",
   "execution_count": null,
   "metadata": {
    "colab": {
     "base_uri": "https://localhost:8080/"
    },
    "executionInfo": {
     "elapsed": 8,
     "status": "ok",
     "timestamp": 1664729021797,
     "user": {
      "displayName": "Jörg Menche",
      "userId": "13346392048312248628"
     },
     "user_tz": -120
    },
    "id": "2qvLPzVq3jVu",
    "outputId": "565c66e4-fcb1-4251-d9f9-ef3dd92e50f9"
   },
   "outputs": [],
   "source": [
    "8 - 1"
   ]
  },
  {
   "cell_type": "code",
   "execution_count": null,
   "metadata": {
    "colab": {
     "base_uri": "https://localhost:8080/"
    },
    "executionInfo": {
     "elapsed": 7,
     "status": "ok",
     "timestamp": 1664729021797,
     "user": {
      "displayName": "Jörg Menche",
      "userId": "13346392048312248628"
     },
     "user_tz": -120
    },
    "id": "MP6Q7QBU3jJs",
    "outputId": "3d4fe99f-0fa9-4c19-8422-b0b890e0b106"
   },
   "outputs": [],
   "source": [
    "10 * 2"
   ]
  },
  {
   "cell_type": "code",
   "execution_count": null,
   "metadata": {
    "colab": {
     "base_uri": "https://localhost:8080/"
    },
    "executionInfo": {
     "elapsed": 6,
     "status": "ok",
     "timestamp": 1664729021797,
     "user": {
      "displayName": "Jörg Menche",
      "userId": "13346392048312248628"
     },
     "user_tz": -120
    },
    "id": "B1UQeG893i8K",
    "outputId": "132739bb-690c-42da-9fd0-66c1f327cc0b"
   },
   "outputs": [],
   "source": [
    "35 / 5"
   ]
  },
  {
   "cell_type": "code",
   "execution_count": null,
   "metadata": {
    "colab": {
     "base_uri": "https://localhost:8080/"
    },
    "executionInfo": {
     "elapsed": 15,
     "status": "ok",
     "timestamp": 1664729022135,
     "user": {
      "displayName": "Jörg Menche",
      "userId": "13346392048312248628"
     },
     "user_tz": -120
    },
    "id": "HF-YcuoU3i02",
    "outputId": "83dec4bf-32b6-41a7-89fc-bdce26ce1ea9"
   },
   "outputs": [],
   "source": [
    "# Exponentiation (x**y, x to the yth power)\n",
    "2**3 "
   ]
  },
  {
   "cell_type": "code",
   "execution_count": null,
   "metadata": {
    "colab": {
     "base_uri": "https://localhost:8080/"
    },
    "executionInfo": {
     "elapsed": 15,
     "status": "ok",
     "timestamp": 1664729022136,
     "user": {
      "displayName": "Jörg Menche",
      "userId": "13346392048312248628"
     },
     "user_tz": -120
    },
    "id": "-8zMxrv53iru",
    "outputId": "dee56708-72d7-4509-d893-a41d406b2020"
   },
   "outputs": [],
   "source": [
    "# Enforce precedence with parentheses\n",
    "1 + 3 * 2"
   ]
  },
  {
   "cell_type": "code",
   "execution_count": null,
   "metadata": {
    "colab": {
     "base_uri": "https://localhost:8080/"
    },
    "executionInfo": {
     "elapsed": 14,
     "status": "ok",
     "timestamp": 1664729022136,
     "user": {
      "displayName": "Jörg Menche",
      "userId": "13346392048312248628"
     },
     "user_tz": -120
    },
    "id": "UWZBOGPQ3idp",
    "outputId": "9fee2c1f-ba48-4e59-e126-a45d5fd7ce27"
   },
   "outputs": [],
   "source": [
    "(1 + 3) * 2"
   ]
  },
  {
   "cell_type": "markdown",
   "metadata": {
    "id": "NoNGBEmB4dir"
   },
   "source": [
    "There are also some less common math operations:"
   ]
  },
  {
   "cell_type": "code",
   "execution_count": null,
   "metadata": {
    "colab": {
     "base_uri": "https://localhost:8080/"
    },
    "executionInfo": {
     "elapsed": 13,
     "status": "ok",
     "timestamp": 1664729022136,
     "user": {
      "displayName": "Jörg Menche",
      "userId": "13346392048312248628"
     },
     "user_tz": -120
    },
    "id": "r4PtZPeoeCmA",
    "outputId": "b740c6b3-edf7-4fb7-8d26-74a42db07794"
   },
   "outputs": [],
   "source": [
    "# Integer division rounds down for both positive and negative numbers.\n",
    "5 // 3"
   ]
  },
  {
   "cell_type": "code",
   "execution_count": null,
   "metadata": {
    "colab": {
     "base_uri": "https://localhost:8080/"
    },
    "executionInfo": {
     "elapsed": 12,
     "status": "ok",
     "timestamp": 1664729022136,
     "user": {
      "displayName": "Jörg Menche",
      "userId": "13346392048312248628"
     },
     "user_tz": -120
    },
    "id": "9ZV66BlO4uSq",
    "outputId": "6bd04ca8-c431-4a52-fe8c-fe91d1eb6c22"
   },
   "outputs": [],
   "source": [
    "-5 // 3"
   ]
  },
  {
   "cell_type": "code",
   "execution_count": null,
   "metadata": {
    "colab": {
     "base_uri": "https://localhost:8080/"
    },
    "executionInfo": {
     "elapsed": 12,
     "status": "ok",
     "timestamp": 1664729022136,
     "user": {
      "displayName": "Jörg Menche",
      "userId": "13346392048312248628"
     },
     "user_tz": -120
    },
    "id": "c7zlbTHb4uOB",
    "outputId": "ec2d829d-43df-4ca3-b107-2f7d8603d41d"
   },
   "outputs": [],
   "source": [
    "# Modulo operation to calculate the remainders \n",
    "7 % 3\n"
   ]
  },
  {
   "cell_type": "code",
   "execution_count": null,
   "metadata": {
    "colab": {
     "base_uri": "https://localhost:8080/"
    },
    "executionInfo": {
     "elapsed": 11,
     "status": "ok",
     "timestamp": 1664729022136,
     "user": {
      "displayName": "Jörg Menche",
      "userId": "13346392048312248628"
     },
     "user_tz": -120
    },
    "id": "gfOHkBJC4uI1",
    "outputId": "d450762e-811f-49bf-82e6-c37c98531a46"
   },
   "outputs": [],
   "source": [
    "# Note that i % j has the same sign as j\n",
    "-7 % 3"
   ]
  },
  {
   "cell_type": "markdown",
   "metadata": {
    "id": "ysj3sqBLfmdg"
   },
   "source": [
    "### Strings"
   ]
  },
  {
   "cell_type": "markdown",
   "metadata": {
    "id": "bR5au3mx5484"
   },
   "source": [
    "Strings holds text data:\n",
    "*   Strings can be enclosed in single or double-quotes\n",
    "*   The ```\\``` esacape character can be used to embed quotes within strings\n",
    "*   The  ```print``` statement nicely prints strings (and other stuff) on the screen"
   ]
  },
  {
   "cell_type": "code",
   "execution_count": null,
   "metadata": {
    "colab": {
     "base_uri": "https://localhost:8080/",
     "height": 35
    },
    "executionInfo": {
     "elapsed": 10,
     "status": "ok",
     "timestamp": 1664729022136,
     "user": {
      "displayName": "Jörg Menche",
      "userId": "13346392048312248628"
     },
     "user_tz": -120
    },
    "id": "pGBytcwngpXP",
    "outputId": "d04860d6-4a91-47a9-a802-df86a22c66f8"
   },
   "outputs": [],
   "source": [
    "'I am a string'"
   ]
  },
  {
   "cell_type": "code",
   "execution_count": null,
   "metadata": {
    "colab": {
     "base_uri": "https://localhost:8080/"
    },
    "executionInfo": {
     "elapsed": 10,
     "status": "ok",
     "timestamp": 1664729022136,
     "user": {
      "displayName": "Jörg Menche",
      "userId": "13346392048312248628"
     },
     "user_tz": -120
    },
    "id": "CAXfzF7ag1lK",
    "outputId": "4bccf0b1-6fd4-4c3d-ae89-3d594d8c630a"
   },
   "outputs": [],
   "source": [
    "print(\"I am a string\")"
   ]
  },
  {
   "cell_type": "code",
   "execution_count": null,
   "metadata": {
    "colab": {
     "base_uri": "https://localhost:8080/"
    },
    "executionInfo": {
     "elapsed": 10,
     "status": "ok",
     "timestamp": 1664729022137,
     "user": {
      "displayName": "Jörg Menche",
      "userId": "13346392048312248628"
     },
     "user_tz": -120
    },
    "id": "skMnHMHvg6C0",
    "outputId": "6473ebc2-3c80-49b8-9697-adbc80b9de11"
   },
   "outputs": [],
   "source": [
    "print('I\\'m a string')"
   ]
  },
  {
   "cell_type": "markdown",
   "metadata": {
    "id": "Am5BY-5RiaPp"
   },
   "source": [
    "The ```\\``` is also used to write the newline (```\\n```), tab (```\\t```), and other special characters.\n",
    "\n",
    "Triple-quotes (``` ''' ``` or ``` \"\"\" ```) allow newlines to be used directly => Used for multiline comments in code!\n"
   ]
  },
  {
   "cell_type": "code",
   "execution_count": null,
   "metadata": {
    "colab": {
     "base_uri": "https://localhost:8080/"
    },
    "executionInfo": {
     "elapsed": 9,
     "status": "ok",
     "timestamp": 1664729022137,
     "user": {
      "displayName": "Jörg Menche",
      "userId": "13346392048312248628"
     },
     "user_tz": -120
    },
    "id": "JD8L3qpHiZ8E",
    "outputId": "8de70d19-f10a-4bc1-89d9-f85b3c7b0a70"
   },
   "outputs": [],
   "source": [
    "print('line one\\nline two\\nline three')"
   ]
  },
  {
   "cell_type": "code",
   "execution_count": null,
   "metadata": {
    "colab": {
     "base_uri": "https://localhost:8080/"
    },
    "executionInfo": {
     "elapsed": 7,
     "status": "ok",
     "timestamp": 1664729022137,
     "user": {
      "displayName": "Jörg Menche",
      "userId": "13346392048312248628"
     },
     "user_tz": -120
    },
    "id": "5VLbfU_SiZ4b",
    "outputId": "cf11f788-5c1d-4494-c45a-b3534cc6a95b"
   },
   "outputs": [],
   "source": [
    "print('line one\\n\\tline two\\n\\t\\tline three')"
   ]
  },
  {
   "cell_type": "code",
   "execution_count": null,
   "metadata": {
    "colab": {
     "base_uri": "https://localhost:8080/"
    },
    "executionInfo": {
     "elapsed": 6,
     "status": "ok",
     "timestamp": 1664729022137,
     "user": {
      "displayName": "Jörg Menche",
      "userId": "13346392048312248628"
     },
     "user_tz": -120
    },
    "id": "JDo272Hci3A7",
    "outputId": "2764ca2d-e5b2-400f-f5c0-7abed026aceb"
   },
   "outputs": [],
   "source": [
    "print('''\n",
    "Line one\n",
    "Line two\n",
    "Line three\n",
    "''')"
   ]
  },
  {
   "cell_type": "code",
   "execution_count": null,
   "metadata": {
    "colab": {
     "base_uri": "https://localhost:8080/"
    },
    "executionInfo": {
     "elapsed": 5,
     "status": "ok",
     "timestamp": 1664729022137,
     "user": {
      "displayName": "Jörg Menche",
      "userId": "13346392048312248628"
     },
     "user_tz": -120
    },
    "id": "qloWQeeIjCLR",
    "outputId": "582ffb13-dae5-492f-de9a-dd50f4988adf"
   },
   "outputs": [],
   "source": [
    "\"\"\" This is a comment\n",
    "that spans multiple lines. \n",
    "It will be ignored by python\"\"\"\n",
    "print(\"hi!\")"
   ]
  },
  {
   "cell_type": "markdown",
   "metadata": {
    "id": "YNMBb1wVm61K"
   },
   "source": [
    "### Values and types"
   ]
  },
  {
   "cell_type": "markdown",
   "metadata": {
    "id": "nTMF_AxHnDu5"
   },
   "source": [
    "A value is one of the basic things a program works with, like a letter or a number.\u000b \n",
    "* ```1234``` is an integer.  Integer is the type, the number 1234 is its value. \n",
    "* ```‘hello’``` is a string: String is type, the letters ‘hello’ are its value. \n",
    "\n",
    "The Python interpreter can also tell you what type a value has: \n"
   ]
  },
  {
   "cell_type": "code",
   "execution_count": null,
   "metadata": {},
   "outputs": [],
   "source": [
    "my_str = 'Hello'\n",
    "my_int = 1234\n",
    "\n",
    "print(my_str)\n",
    "print(my_int)"
   ]
  },
  {
   "cell_type": "markdown",
   "metadata": {},
   "source": [
    "but what if the output looks the same..."
   ]
  },
  {
   "cell_type": "code",
   "execution_count": null,
   "metadata": {},
   "outputs": [],
   "source": [
    "my_str = '1234'\n",
    "my_int = 1234\n",
    "\n",
    "print(my_str)\n",
    "print(my_int)"
   ]
  },
  {
   "cell_type": "markdown",
   "metadata": {},
   "source": [
    "inspect your datatype by:"
   ]
  },
  {
   "cell_type": "code",
   "execution_count": null,
   "metadata": {
    "colab": {
     "base_uri": "https://localhost:8080/"
    },
    "executionInfo": {
     "elapsed": 5,
     "status": "ok",
     "timestamp": 1664729022137,
     "user": {
      "displayName": "Jörg Menche",
      "userId": "13346392048312248628"
     },
     "user_tz": -120
    },
    "id": "SwnZWaFToa0S",
    "outputId": "6d91f0ce-ae9f-4bb6-cc39-c101213a9e36"
   },
   "outputs": [],
   "source": [
    "type('1234')"
   ]
  },
  {
   "cell_type": "code",
   "execution_count": null,
   "metadata": {
    "colab": {
     "base_uri": "https://localhost:8080/"
    },
    "executionInfo": {
     "elapsed": 4,
     "status": "ok",
     "timestamp": 1664729022137,
     "user": {
      "displayName": "Jörg Menche",
      "userId": "13346392048312248628"
     },
     "user_tz": -120
    },
    "id": "APIkci_foQC4",
    "outputId": "5b841db7-e416-4a01-94ad-df4879b8527f"
   },
   "outputs": [],
   "source": [
    "type(1234)"
   ]
  },
  {
   "cell_type": "code",
   "execution_count": null,
   "metadata": {
    "colab": {
     "base_uri": "https://localhost:8080/"
    },
    "executionInfo": {
     "elapsed": 17,
     "status": "ok",
     "timestamp": 1664729022603,
     "user": {
      "displayName": "Jörg Menche",
      "userId": "13346392048312248628"
     },
     "user_tz": -120
    },
    "id": "_grtzFyXoP3q",
    "outputId": "214d2e8a-d60f-4907-b339-8d15ee05fd0f"
   },
   "outputs": [],
   "source": [
    "type('3.14')"
   ]
  },
  {
   "cell_type": "code",
   "execution_count": null,
   "metadata": {},
   "outputs": [],
   "source": [
    "type(3.14)"
   ]
  },
  {
   "cell_type": "markdown",
   "metadata": {
    "id": "C8V-I50ppFAQ"
   },
   "source": [
    "Different types can be converted into one another. This process is also called ‘type casting’."
   ]
  },
  {
   "cell_type": "code",
   "execution_count": null,
   "metadata": {
    "colab": {
     "base_uri": "https://localhost:8080/"
    },
    "executionInfo": {
     "elapsed": 18,
     "status": "ok",
     "timestamp": 1664729022604,
     "user": {
      "displayName": "Jörg Menche",
      "userId": "13346392048312248628"
     },
     "user_tz": -120
    },
    "id": "1zZicgproIdX",
    "outputId": "e2aa5022-02d3-41ad-d000-073898bb5f61"
   },
   "outputs": [],
   "source": [
    "type('123')"
   ]
  },
  {
   "cell_type": "code",
   "execution_count": null,
   "metadata": {
    "colab": {
     "base_uri": "https://localhost:8080/"
    },
    "executionInfo": {
     "elapsed": 16,
     "status": "ok",
     "timestamp": 1664729022604,
     "user": {
      "displayName": "Jörg Menche",
      "userId": "13346392048312248628"
     },
     "user_tz": -120
    },
    "id": "v9F4yNDVpLfF",
    "outputId": "5a882655-3b04-4aec-9c69-854fc5f6d50e"
   },
   "outputs": [],
   "source": [
    "int('123')"
   ]
  },
  {
   "cell_type": "code",
   "execution_count": null,
   "metadata": {
    "colab": {
     "base_uri": "https://localhost:8080/"
    },
    "executionInfo": {
     "elapsed": 15,
     "status": "ok",
     "timestamp": 1664729022604,
     "user": {
      "displayName": "Jörg Menche",
      "userId": "13346392048312248628"
     },
     "user_tz": -120
    },
    "id": "QPTVFe1kpOiU",
    "outputId": "28414f9f-e5b7-4235-9b32-71fa338f70db"
   },
   "outputs": [],
   "source": [
    "type(int('123'))"
   ]
  },
  {
   "cell_type": "code",
   "execution_count": null,
   "metadata": {
    "colab": {
     "base_uri": "https://localhost:8080/",
     "height": 35
    },
    "executionInfo": {
     "elapsed": 15,
     "status": "ok",
     "timestamp": 1664729022604,
     "user": {
      "displayName": "Jörg Menche",
      "userId": "13346392048312248628"
     },
     "user_tz": -120
    },
    "id": "m3KysmLfpRDo",
    "outputId": "c643e1c1-e9ae-4da8-a913-9560d98471d6"
   },
   "outputs": [],
   "source": [
    "str(123)"
   ]
  },
  {
   "cell_type": "code",
   "execution_count": null,
   "metadata": {
    "colab": {
     "base_uri": "https://localhost:8080/"
    },
    "executionInfo": {
     "elapsed": 14,
     "status": "ok",
     "timestamp": 1664729022604,
     "user": {
      "displayName": "Jörg Menche",
      "userId": "13346392048312248628"
     },
     "user_tz": -120
    },
    "id": "_G0cchGupTSe",
    "outputId": "a478ab5c-b8eb-41c6-f548-3389f7dd83aa"
   },
   "outputs": [],
   "source": [
    "type(str(123))"
   ]
  },
  {
   "cell_type": "markdown",
   "metadata": {
    "id": "4hSD6iTAkW7r"
   },
   "source": [
    "### more types"
   ]
  },
  {
   "cell_type": "markdown",
   "metadata": {
    "id": "g6JU0AQxkjil"
   },
   "source": [
    "Python offers a couple of additional data types that are extremely useful. We will talk more about them later:\n",
    "* Booleans: ```True``` or ```False```\n",
    "* Lists: Sequence of any other python type.\n",
    "* Tuples: Same as lists, but ‘immutable’.\n",
    "* Sets: Unordered collection of different objects\n",
    "* Dictionaries: used to store data values in key:value pairs."
   ]
  },
  {
   "cell_type": "code",
   "execution_count": null,
   "metadata": {
    "colab": {
     "base_uri": "https://localhost:8080/"
    },
    "executionInfo": {
     "elapsed": 14,
     "status": "ok",
     "timestamp": 1664729022604,
     "user": {
      "displayName": "Jörg Menche",
      "userId": "13346392048312248628"
     },
     "user_tz": -120
    },
    "id": "n6uo5KsqlEC8",
    "outputId": "6edaf5e4-46d7-4ed6-a418-35da77b92192"
   },
   "outputs": [],
   "source": [
    "type(True)"
   ]
  },
  {
   "cell_type": "code",
   "execution_count": null,
   "metadata": {
    "colab": {
     "base_uri": "https://localhost:8080/"
    },
    "executionInfo": {
     "elapsed": 13,
     "status": "ok",
     "timestamp": 1664729022604,
     "user": {
      "displayName": "Jörg Menche",
      "userId": "13346392048312248628"
     },
     "user_tz": -120
    },
    "id": "vvMGuVafpY07",
    "outputId": "f9932880-595e-40bc-f2a5-3ff225ba51ac"
   },
   "outputs": [],
   "source": [
    "3>4"
   ]
  },
  {
   "cell_type": "code",
   "execution_count": null,
   "metadata": {
    "colab": {
     "base_uri": "https://localhost:8080/"
    },
    "executionInfo": {
     "elapsed": 13,
     "status": "ok",
     "timestamp": 1664729022604,
     "user": {
      "displayName": "Jörg Menche",
      "userId": "13346392048312248628"
     },
     "user_tz": -120
    },
    "id": "4dqpAHdzlnTf",
    "outputId": "a40c82e9-d2a8-42dc-97ad-0585ea62b68d"
   },
   "outputs": [],
   "source": [
    "type(3<4)"
   ]
  },
  {
   "cell_type": "code",
   "execution_count": null,
   "metadata": {
    "colab": {
     "base_uri": "https://localhost:8080/"
    },
    "executionInfo": {
     "elapsed": 12,
     "status": "ok",
     "timestamp": 1664729022604,
     "user": {
      "displayName": "Jörg Menche",
      "userId": "13346392048312248628"
     },
     "user_tz": -120
    },
    "id": "F0JGis0TlnLa",
    "outputId": "632e2fae-2898-434d-eff8-77cba67d3ed4"
   },
   "outputs": [],
   "source": [
    "type([1,2,3,4,5])"
   ]
  },
  {
   "cell_type": "code",
   "execution_count": null,
   "metadata": {
    "colab": {
     "base_uri": "https://localhost:8080/"
    },
    "executionInfo": {
     "elapsed": 12,
     "status": "ok",
     "timestamp": 1664729022605,
     "user": {
      "displayName": "Jörg Menche",
      "userId": "13346392048312248628"
     },
     "user_tz": -120
    },
    "id": "owZXk4VOlnHA",
    "outputId": "7afcc870-93ff-4134-c311-cfa5aa37fada"
   },
   "outputs": [],
   "source": [
    "type((1,2,3,4,5))"
   ]
  },
  {
   "cell_type": "code",
   "execution_count": null,
   "metadata": {
    "colab": {
     "base_uri": "https://localhost:8080/"
    },
    "executionInfo": {
     "elapsed": 12,
     "status": "ok",
     "timestamp": 1664729022605,
     "user": {
      "displayName": "Jörg Menche",
      "userId": "13346392048312248628"
     },
     "user_tz": -120
    },
    "id": "XlA6Bi99lm6_",
    "outputId": "9dfc6b41-c74c-4c29-ba11-80939d4be9f6"
   },
   "outputs": [],
   "source": [
    "type({'a','b','c'})"
   ]
  },
  {
   "cell_type": "code",
   "execution_count": null,
   "metadata": {
    "colab": {
     "base_uri": "https://localhost:8080/"
    },
    "executionInfo": {
     "elapsed": 11,
     "status": "ok",
     "timestamp": 1664729022605,
     "user": {
      "displayName": "Jörg Menche",
      "userId": "13346392048312248628"
     },
     "user_tz": -120
    },
    "id": "gdwMPaWVlmxG",
    "outputId": "a0ba23e9-3e9d-4795-ae78-19a197449a9f"
   },
   "outputs": [],
   "source": [
    "type({'name':'Felix','phone':70016})"
   ]
  },
  {
   "cell_type": "markdown",
   "metadata": {
    "id": "Xj4e4SSep2lo"
   },
   "source": [
    "### Variables"
   ]
  },
  {
   "cell_type": "markdown",
   "metadata": {
    "id": "Zc_jo7nbp5Ae"
   },
   "source": [
    "* A variable is a name that refers to a value. \n",
    "* An assignment statement creates new variables and gives them values:\n"
   ]
  },
  {
   "cell_type": "code",
   "execution_count": null,
   "metadata": {
    "colab": {
     "base_uri": "https://localhost:8080/"
    },
    "executionInfo": {
     "elapsed": 10,
     "status": "ok",
     "timestamp": 1664729022605,
     "user": {
      "displayName": "Jörg Menche",
      "userId": "13346392048312248628"
     },
     "user_tz": -120
    },
    "id": "h2kcBhcAqBCZ",
    "outputId": "31ab176c-6bd2-4147-860e-1281256cb3f1"
   },
   "outputs": [],
   "source": [
    "important_message = 'python is super awesome!'\n",
    "print (important_message)"
   ]
  },
  {
   "cell_type": "code",
   "execution_count": null,
   "metadata": {
    "colab": {
     "base_uri": "https://localhost:8080/"
    },
    "executionInfo": {
     "elapsed": 9,
     "status": "ok",
     "timestamp": 1664729022605,
     "user": {
      "displayName": "Jörg Menche",
      "userId": "13346392048312248628"
     },
     "user_tz": -120
    },
    "id": "CPnBr-IGp-Oz",
    "outputId": "21733492-9960-4c9d-8466-3de4205cd372"
   },
   "outputs": [],
   "source": [
    "pi = 3.141592653589793\n",
    "print (pi)"
   ]
  },
  {
   "cell_type": "markdown",
   "metadata": {
    "id": "1acA3FfrqNEU"
   },
   "source": [
    "* Programmers generally choose names for their variables that are meaningful – they document what the variable is used for. \n",
    "* Variable names can be arbitrarily long, can be with both letters and numbers. \n",
    "* The underscore character “_” can appear in a name as well. \n"
   ]
  },
  {
   "cell_type": "markdown",
   "metadata": {
    "id": "_YsE9EX_qenI"
   },
   "source": [
    "* The variable names have to start with a letter or “_” \n",
    "* It is a good idea to begin variable names with a lowercase letter. \n",
    "* Python’s reserved keywords: keywords are used to recognize the structure of the program, and cannot be used as variable names:"
   ]
  },
  {
   "cell_type": "markdown",
   "metadata": {
    "id": "RdeXgBnSqrGO"
   },
   "source": [
    "- and\n",
    "- as\n",
    "- assert\n",
    "- break\n",
    "- class\n",
    "- continue\n",
    "- def\n",
    "- del\n",
    "- elif\n",
    "- else\n",
    "- except\n",
    "- exec\n",
    "- finally\n",
    "- for\n",
    "- from\n",
    "- global\n",
    "- if\n",
    "- import\n",
    "- in\n",
    "- is\n",
    "- lambda\n",
    "- not\n",
    "- or\n",
    "- pass\n",
    "- print\n",
    "- raise\n",
    "- return\n",
    "- try\n",
    "- while\n",
    "- with\n",
    "- yield\n"
   ]
  },
  {
   "cell_type": "markdown",
   "metadata": {
    "id": "xlehBa7yVBo5"
   },
   "source": [
    "### Slightly more advanced calculator:"
   ]
  },
  {
   "cell_type": "code",
   "execution_count": null,
   "metadata": {
    "colab": {
     "base_uri": "https://localhost:8080/"
    },
    "executionInfo": {
     "elapsed": 8,
     "status": "ok",
     "timestamp": 1664729022605,
     "user": {
      "displayName": "Jörg Menche",
      "userId": "13346392048312248628"
     },
     "user_tz": -120
    },
    "id": "YGRpcUG4TaDK",
    "outputId": "ce42612e-c4f6-4a73-ae55-2535ea3474d7"
   },
   "outputs": [],
   "source": [
    "# calculating the approximate volume of a pencil:\n",
    "cm = 10**-2 # define cm \n",
    "diameter = 0.8*cm\n",
    "radius = 0.5*diameter\n",
    "length = 20*cm\n",
    "\n",
    "# We approximate the cell as a cylinder\n",
    "# Formula for the volume of a cylinder: V=π r^2 h\n",
    "pi = 3.14\n",
    "volume = pi*radius**2*length\n",
    "print('volume in cubic meters: ', volume)\n"
   ]
  },
  {
   "cell_type": "code",
   "execution_count": null,
   "metadata": {
    "colab": {
     "base_uri": "https://localhost:8080/"
    },
    "executionInfo": {
     "elapsed": 7,
     "status": "ok",
     "timestamp": 1664729022605,
     "user": {
      "displayName": "Jörg Menche",
      "userId": "13346392048312248628"
     },
     "user_tz": -120
    },
    "id": "28DTDtMCVdRr",
    "outputId": "6058a323-840a-40ab-a7ba-95c74e7b4af7"
   },
   "outputs": [],
   "source": [
    "# convert to cm3:\n",
    "print(\"The approximate volume is %1.2f cm3\" %(volume/(cm**3)))"
   ]
  },
  {
   "cell_type": "markdown",
   "metadata": {
    "id": "QoCkLV6F1BF0"
   },
   "source": [
    "# Bugs"
   ]
  },
  {
   "cell_type": "markdown",
   "metadata": {
    "id": "S4zdRD7V6Mk3"
   },
   "source": [
    "Programming is error-prone. Programming errors are called **bugs** and the process of tracking them down is called **debugging**. \n",
    "\n",
    "Three kinds of errors:\n",
    "*  Syntax errors\n",
    "*  Runtime errors\n",
    "*  Semantic errors"
   ]
  },
  {
   "cell_type": "markdown",
   "metadata": {
    "id": "0xUkrA3-1Sb3"
   },
   "source": [
    "### Syntax error\n",
    "\n",
    "Syntax refers to the structure of a program and the rules about that structure => Program cannot be executed. "
   ]
  },
  {
   "cell_type": "code",
   "execution_count": null,
   "metadata": {
    "colab": {
     "base_uri": "https://localhost:8080/",
     "height": 131
    },
    "executionInfo": {
     "elapsed": 6,
     "status": "error",
     "timestamp": 1664729022605,
     "user": {
      "displayName": "Jörg Menche",
      "userId": "13346392048312248628"
     },
     "user_tz": -120
    },
    "id": "c4XdpLzR1IFV",
    "outputId": "75420f56-0ce2-4b7a-82b9-6b4abdbfd926"
   },
   "outputs": [],
   "source": [
    "a = 5\n",
    "print(3a)"
   ]
  },
  {
   "cell_type": "code",
   "execution_count": null,
   "metadata": {
    "colab": {
     "base_uri": "https://localhost:8080/"
    },
    "executionInfo": {
     "elapsed": 233,
     "status": "ok",
     "timestamp": 1664729058130,
     "user": {
      "displayName": "Jörg Menche",
      "userId": "13346392048312248628"
     },
     "user_tz": -120
    },
    "id": "B5tfWJtt1Dh7",
    "outputId": "621aaf0b-7c02-445e-9a58-4082591f8845"
   },
   "outputs": [],
   "source": [
    "a = 5\n",
    "print(3*a)"
   ]
  },
  {
   "cell_type": "markdown",
   "metadata": {
    "id": "yHF_7Rtm10aR"
   },
   "source": [
    "### Runtime error\n",
    "\n",
    "Error does not appear until after the program has \n",
    "started running => Program throws ‘exception’ "
   ]
  },
  {
   "cell_type": "code",
   "execution_count": null,
   "metadata": {
    "colab": {
     "base_uri": "https://localhost:8080/",
     "height": 201
    },
    "executionInfo": {
     "elapsed": 7,
     "status": "error",
     "timestamp": 1664729058520,
     "user": {
      "displayName": "Jörg Menche",
      "userId": "13346392048312248628"
     },
     "user_tz": -120
    },
    "id": "dnCYQoZ0xFWV",
    "outputId": "9a4724e7-9802-4863-a739-6bf9573884c9"
   },
   "outputs": [],
   "source": [
    "a = 1\n",
    "b = 1\n",
    "print (1/(a - b))"
   ]
  },
  {
   "cell_type": "markdown",
   "metadata": {
    "id": "tGaaVpW02ND6"
   },
   "source": [
    "### Semantic error\n",
    "\n",
    "Program will run successfully, but it will not do the right thing. \n",
    "The problem is that the program you wrote is not the exactly program you wanted to write. The meaning of the program (its semantics) is wrong. Much more difficult to debug."
   ]
  },
  {
   "cell_type": "code",
   "execution_count": null,
   "metadata": {
    "colab": {
     "base_uri": "https://localhost:8080/"
    },
    "executionInfo": {
     "elapsed": 248,
     "status": "ok",
     "timestamp": 1664729070694,
     "user": {
      "displayName": "Jörg Menche",
      "userId": "13346392048312248628"
     },
     "user_tz": -120
    },
    "id": "c93bbcpq2AZW",
    "outputId": "73e66278-be63-4a71-8c93-45b48cd0472c"
   },
   "outputs": [],
   "source": [
    "# program to calculate n!\n",
    "n = 4\n",
    "factorial = 1\n",
    "for f in range(2,n):\n",
    "  factorial = factorial*f\n",
    "print(factorial)"
   ]
  },
  {
   "cell_type": "markdown",
   "metadata": {},
   "source": [
    "But 4! is 24...\n",
    "\n",
    "what went wrong?\n",
    "\n",
    "the range fuction in the loop (range(2,n)) runs from 2 to n-1 (!)\n",
    "\n",
    "(Why? Most arrays in Python are 0 based so that an array of size n has indeed n elements but runs from 0 to n-1)\n"
   ]
  },
  {
   "cell_type": "code",
   "execution_count": null,
   "metadata": {},
   "outputs": [],
   "source": [
    "# program to calculate n! correctly\n",
    "n = 4\n",
    "factorial = 1\n",
    "for f in range(2,n+1):\n",
    "  factorial = factorial*f\n",
    "print(factorial)"
   ]
  },
  {
   "cell_type": "markdown",
   "metadata": {},
   "source": [
    "# Conditionals\n",
    "\n",
    "\"Conditionals\" is a fancy word for if-statements. If you've ever done any programming, you are surely aware of the if-then-else construction. In Python it's done as follows:"
   ]
  },
  {
   "cell_type": "code",
   "execution_count": null,
   "metadata": {},
   "outputs": [],
   "source": [
    "number_of_apples = 5\n",
    "\n",
    "if number_of_apples < 1:\n",
    "    print('You have no apples')\n",
    "elif number_of_apples == 1:\n",
    "    print('You have one apple')\n",
    "elif number_of_apples < 4:\n",
    "    print('You have a few apples')\n",
    "else:\n",
    "    print('You have many apples!')"
   ]
  },
  {
   "cell_type": "markdown",
   "metadata": {},
   "source": [
    "conditionals can be nested:"
   ]
  },
  {
   "cell_type": "code",
   "execution_count": null,
   "metadata": {},
   "outputs": [],
   "source": [
    "'''In this program, we input a number\n",
    "check if the number is positive or\n",
    "negative or zero and display\n",
    "an appropriate message\n",
    "This time we use nested if statement'''\n",
    "\n",
    "num = -2\n",
    "if num >= 0:\n",
    "    if num == 0:\n",
    "        print(\"Zero\")\n",
    "    else:\n",
    "        print(\"Positive number\")\n",
    "else:\n",
    "    print(\"Negative number\")"
   ]
  },
  {
   "cell_type": "markdown",
   "metadata": {},
   "source": [
    "# Lists\n",
    "\n",
    "One of Python's most versatile and ubiquitous data types is the List ([Python documentation](https://docs.python.org/3/library/stdtypes.html#list)). "
   ]
  },
  {
   "cell_type": "code",
   "execution_count": null,
   "metadata": {},
   "outputs": [],
   "source": [
    "student_names = ['Alice', 'Bob', 'Carol', 'Dave']\n",
    "student_names[1]"
   ]
  },
  {
   "cell_type": "markdown",
   "metadata": {},
   "source": [
    "Indices in Python start at zero, so the head of the list has index 0:"
   ]
  },
  {
   "cell_type": "code",
   "execution_count": null,
   "metadata": {},
   "outputs": [],
   "source": [
    "student_names[0]"
   ]
  },
  {
   "cell_type": "markdown",
   "metadata": {},
   "source": [
    "Lists can also be *sliced* to get a subset of the list items:"
   ]
  },
  {
   "cell_type": "code",
   "execution_count": null,
   "metadata": {},
   "outputs": [],
   "source": [
    "student_names[0:2]"
   ]
  },
  {
   "cell_type": "markdown",
   "metadata": {},
   "source": [
    "We can get the last item in a list by using negative indexing:"
   ]
  },
  {
   "cell_type": "code",
   "execution_count": null,
   "metadata": {},
   "outputs": [],
   "source": [
    "student_names[-1]"
   ]
  },
  {
   "cell_type": "markdown",
   "metadata": {},
   "source": [
    "When slicing from the beginning of the list, or to the end of the list, we can leave out the index:"
   ]
  },
  {
   "cell_type": "code",
   "execution_count": null,
   "metadata": {},
   "outputs": [],
   "source": [
    "student_names[:2]"
   ]
  },
  {
   "cell_type": "code",
   "execution_count": null,
   "metadata": {},
   "outputs": [],
   "source": [
    "student_names[2:]"
   ]
  },
  {
   "cell_type": "markdown",
   "metadata": {},
   "source": [
    "The list can be changed by adding or removing items. We add items to the end of the list with `.append()`:"
   ]
  },
  {
   "cell_type": "code",
   "execution_count": null,
   "metadata": {},
   "outputs": [],
   "source": [
    "student_names.append('Esther')\n",
    "student_names"
   ]
  },
  {
   "cell_type": "markdown",
   "metadata": {},
   "source": [
    "But we can also add items at any arbitrary index with `.insert()`:"
   ]
  },
  {
   "cell_type": "code",
   "execution_count": null,
   "metadata": {},
   "outputs": [],
   "source": [
    "student_names.insert(2, 'Xavier')\n",
    "student_names"
   ]
  },
  {
   "cell_type": "markdown",
   "metadata": {},
   "source": [
    "We can delete items with the `del` keyword:"
   ]
  },
  {
   "cell_type": "code",
   "execution_count": null,
   "metadata": {},
   "outputs": [],
   "source": [
    "del student_names[2]\n",
    "student_names"
   ]
  },
  {
   "cell_type": "markdown",
   "metadata": {},
   "source": [
    "Note that nothing stops us from repeatedly adding the same name to this list:"
   ]
  },
  {
   "cell_type": "code",
   "execution_count": null,
   "metadata": {},
   "outputs": [],
   "source": [
    "student_names.append('Esther')\n",
    "student_names.append('Esther')\n",
    "student_names"
   ]
  },
  {
   "cell_type": "markdown",
   "metadata": {},
   "source": [
    "# Sets\n",
    "\n",
    "For unique collections you can use `sets`"
   ]
  },
  {
   "cell_type": "code",
   "execution_count": null,
   "metadata": {},
   "outputs": [],
   "source": [
    "set_student_names = set(student_names)\n",
    "set_student_names\n"
   ]
  },
  {
   "cell_type": "markdown",
   "metadata": {},
   "source": [
    "it comes with the usual set operations\n",
    "\n",
    "overlap (elements that have boths sets in common)"
   ]
  },
  {
   "cell_type": "code",
   "execution_count": null,
   "metadata": {},
   "outputs": [],
   "source": [
    "another_set = {'Alice','Billy','Cathrin','Dave', 'Esther'}\n",
    "\n",
    "set_overlap = set_student_names & another_set\n",
    "\n",
    "set_overlap"
   ]
  },
  {
   "cell_type": "markdown",
   "metadata": {},
   "source": [
    "union (unique appearance of elements in both sets)"
   ]
  },
  {
   "cell_type": "code",
   "execution_count": null,
   "metadata": {},
   "outputs": [],
   "source": [
    "set_union = set_student_names | another_set\n",
    "\n",
    "set_union"
   ]
  },
  {
   "cell_type": "markdown",
   "metadata": {},
   "source": [
    "differences\n",
    "\n",
    "elements that occur only in set 1 but not in set 2 (and vice versa)"
   ]
  },
  {
   "cell_type": "code",
   "execution_count": null,
   "metadata": {},
   "outputs": [],
   "source": [
    "set_diff_1 = set_student_names - another_set\n",
    "\n",
    "set_diff_1"
   ]
  },
  {
   "cell_type": "code",
   "execution_count": null,
   "metadata": {},
   "outputs": [],
   "source": [
    "set_diff_2 = another_set - set_student_names\n",
    "\n",
    "set_diff_2"
   ]
  },
  {
   "cell_type": "markdown",
   "metadata": {},
   "source": [
    "adding items to sets"
   ]
  },
  {
   "cell_type": "code",
   "execution_count": null,
   "metadata": {},
   "outputs": [],
   "source": [
    "print(another_set)\n",
    "\n",
    "another_set.add('Mirinda')\n",
    "\n",
    "print(another_set)\n"
   ]
  },
  {
   "cell_type": "markdown",
   "metadata": {},
   "source": [
    "# Dictionaries\n",
    "\n",
    "A dictionary is one of the most powerful tools in Python: ([documentation](https://docs.python.org/3/library/stdtypes.html#dict)). In other languages these are called maps, mappings, hashmaps, hashes, or associative arrays.\n"
   ]
  },
  {
   "cell_type": "code",
   "execution_count": null,
   "metadata": {},
   "outputs": [],
   "source": [
    "foreign_languages = {\n",
    "    'Alice': 'Spanish',\n",
    "    'Bob': 'French',\n",
    "    'Carol': 'Italian',\n",
    "    'Dave': 'Italian',\n",
    "}"
   ]
  },
  {
   "cell_type": "markdown",
   "metadata": {},
   "source": [
    "Here the student names are the keys and the students' foreign language courses are the values. So to see Carol's foreign language, we use the key -- her name -- instead of an index:"
   ]
  },
  {
   "cell_type": "code",
   "execution_count": null,
   "metadata": {},
   "outputs": [],
   "source": [
    "foreign_languages['Carol']"
   ]
  },
  {
   "cell_type": "markdown",
   "metadata": {},
   "source": [
    "Trying to get the value for a key that does not exist in the dictionary results in a `KeyError`:"
   ]
  },
  {
   "cell_type": "code",
   "execution_count": null,
   "metadata": {},
   "outputs": [],
   "source": [
    "foreign_languages['Zack']"
   ]
  },
  {
   "cell_type": "markdown",
   "metadata": {},
   "source": [
    "We can check if a particular key is in a dictionary with the `in` keyword:"
   ]
  },
  {
   "cell_type": "code",
   "execution_count": null,
   "metadata": {},
   "outputs": [],
   "source": [
    "'Alice' in foreign_languages"
   ]
  },
  {
   "cell_type": "code",
   "execution_count": null,
   "metadata": {},
   "outputs": [],
   "source": [
    "'Zack' in foreign_languages"
   ]
  },
  {
   "cell_type": "markdown",
   "metadata": {},
   "source": [
    "Note that keys are case-sensitive:"
   ]
  },
  {
   "cell_type": "code",
   "execution_count": null,
   "metadata": {},
   "outputs": [],
   "source": [
    "'alice' in foreign_languages"
   ]
  },
  {
   "cell_type": "markdown",
   "metadata": {},
   "source": [
    "Looping over dictionaries:"
   ]
  },
  {
   "cell_type": "code",
   "execution_count": null,
   "metadata": {},
   "outputs": [],
   "source": [
    "for key, value in foreign_languages.items():\n",
    "    print(key, 'is taking', value)"
   ]
  },
  {
   "cell_type": "markdown",
   "metadata": {},
   "source": [
    "the naming of keys and values can be arbitrary:"
   ]
  },
  {
   "cell_type": "code",
   "execution_count": null,
   "metadata": {},
   "outputs": [],
   "source": [
    "for x, y in foreign_languages.items():\n",
    "    print(x, y)"
   ]
  },
  {
   "cell_type": "markdown",
   "metadata": {},
   "source": [
    "### First exercise"
   ]
  },
  {
   "cell_type": "markdown",
   "metadata": {},
   "source": [
    "Fruit sets\n",
    "\n",
    "a) Create two sets: fruits1 and fruits2, containing the following fruit names:\n",
    "\n",
    "    fruits1 contains \"apple\", \"banana\", \"cherry\", \"melon\" and \"peach\"\n",
    "    fruits2 contains \"cherry,\" \"pear,\" \"grape\" \"kiwi\" and \"mango.\"\n",
    "\n",
    "b) Print the unique fruits that appear in either fruits1 or fruits2. This should include all unique fruit names from both sets.\n",
    "\n",
    "c) Print the common fruits that appear in both fruits1 and fruits2. This should include the fruit names that are present in both sets.\n",
    "\n",
    "d) Add \"orange\" to fruits2 and \"kiwi\" to fruits1.\n",
    "\n",
    "e) Print the updated fruits1 and fruits2 sets to confirm the additions."
   ]
  },
  {
   "cell_type": "code",
   "execution_count": null,
   "metadata": {},
   "outputs": [],
   "source": [
    "# solution"
   ]
  },
  {
   "cell_type": "markdown",
   "metadata": {},
   "source": [
    "Height Calculator\n",
    "\n",
    "a) Create a dictionary called student_heights with the names of six students as keys and their respective heights (in centimeters) as values. For example:\n",
    "    \n",
    "    student_heights = {\"Alice\": 160, \"Bob\": 175, \"Charlie\": 168, \"David\": 182, \"Eva\": 155, \"Frank\": 178}\n",
    "\n",
    "b) Use a loop to calculate and print the average height of the students.\n",
    "\n",
    "c) Use a loop to identify and print the names of students who are taller than the average height.\n"
   ]
  },
  {
   "cell_type": "code",
   "execution_count": null,
   "metadata": {},
   "outputs": [],
   "source": [
    "# solution"
   ]
  },
  {
   "cell_type": "markdown",
   "metadata": {},
   "source": [
    "# A step towards programming\n",
    "\n",
    "The exponential function $e^x$ can be defined by the power series: \n",
    "\n",
    "$$e^x = 1+ \\sum_{n=1}^{\\infty}\\frac{x^n}{n!}$$\n",
    "\n",
    "We can approximate the value of $e^x$ by using only a finite number of terms."
   ]
  },
  {
   "cell_type": "code",
   "execution_count": null,
   "metadata": {},
   "outputs": [],
   "source": [
    "# value of x for which we want to compute e^x:\n",
    "x = 1 \n",
    "\n",
    "# number of terms we want to use in our approximation:\n",
    "number_of_terms = 10\n",
    "\n",
    "exp_sum = 1 # we will use this variable to sum up the individual terms\n",
    "\n",
    "# loop over the different terms in the power series:\n",
    "for n in range (1, number_of_terms):\n",
    "\n",
    "    # calculate the n-the power of x:\n",
    "    power = x**n\n",
    "\n",
    "    # calculate the factorial:\n",
    "    factorial = 1\n",
    "    for f in range(2,n+1):\n",
    "      factorial = factorial*f\n",
    "    \n",
    "    # calculate the fraction\n",
    "    nth_term  = power/factorial\n",
    "    \n",
    "    # add the result of this iteration to the total value\n",
    "    exp_sum   = exp_sum + nth_term\n",
    "\n",
    "print(exp_sum)\n"
   ]
  },
  {
   "cell_type": "markdown",
   "metadata": {},
   "source": [
    "## functions"
   ]
  },
  {
   "cell_type": "code",
   "execution_count": null,
   "metadata": {},
   "outputs": [],
   "source": [
    "def exponential_approximation(x, number_of_terms):\n",
    "    exp_sum = 1  # Initialize the sum with the first term\n",
    "\n",
    "    for n in range(1, number_of_terms):\n",
    "        power = x ** n\n",
    "\n",
    "        factorial = 1\n",
    "        for f in range(2, n + 1):\n",
    "            factorial = factorial * f\n",
    "\n",
    "        nth_term = power / factorial\n",
    "        exp_sum = exp_sum + nth_term\n",
    "\n",
    "    return exp_sum\n",
    "\n",
    "# Define values for x and the number of terms\n",
    "x = 1\n",
    "number_of_terms = 10\n",
    "\n",
    "# Call the function and print the result\n",
    "result = exponential_approximation(x, number_of_terms)\n",
    "print(result)\n"
   ]
  },
  {
   "cell_type": "markdown",
   "metadata": {},
   "source": [
    "### Second exercise\n",
    "\n",
    "The geometric series is given by\n",
    "\n",
    "$$\\sum_{k=0}^{n} ar^k$$\n",
    "\n",
    "    (a) Create a Python function called geometric_series that takes three arguments: a (coefficient of the series with a>0), r (the common ratio with 0<r<1), and n (the number of terms).\n",
    "    Inside the function, calculate and return the sum of the first n terms of the geometric series defined by a and r.\n",
    "\n",
    "    (b) Define values for a, r, and n, and then call the calculate_geometric_series_sum function to calculate and print the sum of the series.\n",
    "\n",
    "    (c) Compare the results for increasing $n$ with the asymptotic behavior known for $n \\rightarrow \\infty$."
   ]
  },
  {
   "cell_type": "code",
   "execution_count": null,
   "metadata": {},
   "outputs": [],
   "source": [
    "# Solution\n",
    "\n"
   ]
  },
  {
   "cell_type": "markdown",
   "metadata": {},
   "source": [
    "# Modules"
   ]
  },
  {
   "cell_type": "markdown",
   "metadata": {
    "id": "97WGOGxiemoK"
   },
   "source": [
    "---\n",
    "### Importing python modules that provide useful functions"
   ]
  },
  {
   "cell_type": "code",
   "execution_count": null,
   "metadata": {
    "id": "daAOr3JG6h8s"
   },
   "outputs": [],
   "source": [
    "# -----------------------------------\n",
    "# importing python modules that \n",
    "# contain functions for statistics\n",
    "# ------------------------------------\n",
    "import numpy as np\n",
    "import scipy.stats as stat\n",
    "import random as rnd\n",
    "import scipy as sc\n",
    "from collections import Counter\n",
    "# -----------------------------------\n",
    "# importing functions for plotting\n",
    "# ------------------------------------\n",
    "import matplotlib.pyplot as plt # basic plotting\n"
   ]
  },
  {
   "cell_type": "markdown",
   "metadata": {},
   "source": [
    "### random numbers"
   ]
  },
  {
   "cell_type": "code",
   "execution_count": null,
   "metadata": {},
   "outputs": [],
   "source": [
    "# Uniformly distributed random numbers\n",
    "\n",
    "# Define the range for the random numbers\n",
    "a = 0.0  # Lower bound\n",
    "b = 1.0  # Upper bound\n",
    "\n",
    "# Generate a random number within the specified range\n",
    "random_number = rnd.uniform(a, b)\n",
    "print(random_number)\n",
    "\n",
    "# Multiple random numbers\n",
    "\n",
    "# Define the number of random numbers you want in the list\n",
    "num_numbers = 10\n",
    "\n",
    "# Initialize an empty list to store the random numbers\n",
    "random_numbers = []\n",
    "\n",
    "# Generate random numbers and append them to the list\n",
    "for _ in range(num_numbers):\n",
    "    random_number = rnd.uniform(a, b)\n",
    "    random_numbers.append(random_number)\n",
    "\n",
    "print(random_numbers)\n"
   ]
  },
  {
   "cell_type": "code",
   "execution_count": null,
   "metadata": {},
   "outputs": [],
   "source": [
    "# Normally distributed numbers\n",
    "\n",
    "# Define the mean (mu) and standard deviation (sigma) for the normal distribution\n",
    "mu = 0.0         # Mean\n",
    "sigma = 1.0      # Standard Deviation\n",
    "\n",
    "# Define the number of random numbers you want in the list\n",
    "num_numbers = 10\n",
    "\n",
    "# Initialize an empty list to store the random numbers\n",
    "random_numbers = []\n",
    "\n",
    "# Generate normally distributed random numbers and append them to the list\n",
    "for _ in range(num_numbers):\n",
    "    random_number = rnd.normalvariate(mu, sigma)\n",
    "    random_numbers.append(random_number)\n",
    "\n",
    "# Print the list of normally distributed random numbers\n",
    "print(\"Normally Distributed Random Numbers:\", random_numbers)\n"
   ]
  },
  {
   "cell_type": "code",
   "execution_count": null,
   "metadata": {},
   "outputs": [],
   "source": [
    "# average and standard deviation\n",
    "\n",
    "print('average of normally distributed random numbers: ', np.mean(random_numbers))\n",
    "print('standard deviation: ', np.std(random_numbers))"
   ]
  },
  {
   "cell_type": "markdown",
   "metadata": {},
   "source": [
    "### Counter "
   ]
  },
  {
   "cell_type": "code",
   "execution_count": null,
   "metadata": {},
   "outputs": [],
   "source": [
    "\n",
    "fruits = [\"apple\", \"banana\", \"cherry\", \"date\", \"fig\",\n",
    "          \"orange\", \"kiwi\", \"lemon\", \"mango\", \"orange\",\n",
    "          \"banana\", \"lemon\", \"banana\", \"kiwi\", \"banana\",\n",
    "          \"mango\", \"apple\", \"mango\", \"peach\", \"kiwi\"]\n",
    "\n",
    "\n",
    "print(Counter(fruits))\n"
   ]
  },
  {
   "cell_type": "markdown",
   "metadata": {},
   "source": [
    "# Plots"
   ]
  },
  {
   "cell_type": "markdown",
   "metadata": {},
   "source": [
    "generate barplot for frequencies"
   ]
  },
  {
   "cell_type": "code",
   "execution_count": null,
   "metadata": {},
   "outputs": [],
   "source": [
    "\n",
    "hist_data = Counter(fruits)\n",
    "# plot data points as a scatter plot:\n",
    "plt.bar(hist_data.keys(), hist_data.values(),\n",
    "     color='b',alpha = .6)\n",
    "\n",
    "plt.xlabel(\"fruits\")\n",
    "plt.ylabel(\"frequency\")\n"
   ]
  },
  {
   "cell_type": "code",
   "execution_count": null,
   "metadata": {},
   "outputs": [],
   "source": [
    "# prettify\n",
    "\n",
    "hist_data = Counter(fruits)\n",
    "# plot data points as a scatter plot:\n",
    "plt.bar(hist_data.keys(), hist_data.values(),\n",
    "     color='b',alpha = .6, edgecolor='black', linewidth=1.5)\n",
    "plt.xticks(rotation=90)\n",
    "plt.xlabel(\"fruits\",fontsize = 16)\n",
    "plt.ylabel(\"frequency\",fontsize = 16)\n"
   ]
  },
  {
   "cell_type": "markdown",
   "metadata": {
    "id": "7QodzL2te5G6"
   },
   "source": [
    "### Scatter and line plots"
   ]
  },
  {
   "cell_type": "code",
   "execution_count": null,
   "metadata": {
    "colab": {
     "base_uri": "https://localhost:8080/",
     "height": 289
    },
    "executionInfo": {
     "elapsed": 737,
     "status": "ok",
     "timestamp": 1664729072531,
     "user": {
      "displayName": "Jörg Menche",
      "userId": "13346392048312248628"
     },
     "user_tz": -120
    },
    "id": "PfS5Wjk8bPmx",
    "outputId": "bead492b-4f32-4fef-c205-2ed7809faa24"
   },
   "outputs": [],
   "source": [
    "# Define two lists of x and y values to be used as data points\n",
    "x_values = [1,2,3,4,5,6]\n",
    "y_values = [1,3,10,15,28,35]\n",
    "\n",
    "\n",
    "\n",
    "# plot data points as a scatter plot:\n",
    "plt.plot(x_values, y_values, marker='o',\n",
    "    linestyle='', color='r', label = 'Data')\n",
    "\n",
    "# # plot the theory as a line plot:\n",
    "# plt.plot(theory_x_values, theory_y_values,\n",
    "#     linestyle='-', color='b', label = 'Theory: $y=x^2$')\n",
    "\n",
    "# adjusting the axes and labels to be displayed\n",
    "plt.axis([0, 10, 0, 40])\n",
    "plt.xlabel(\"$x$\",fontsize = 16)\n",
    "plt.ylabel(\"$y$\",fontsize = 16)\n",
    "plt.legend()\n",
    "\n",
    "# show plot on screen:\n",
    "plt.show()"
   ]
  },
  {
   "cell_type": "code",
   "execution_count": null,
   "metadata": {},
   "outputs": [],
   "source": [
    "# fit quadratic model\n",
    "\n",
    "def squared_values(x_range,a,b,c):\n",
    "    y_range = []\n",
    "    for x in x_range:\n",
    "        y_range.append(a*x*x + b*x + c)\n",
    "    return y_range\n",
    "\n",
    "x_model = np.linspace(0, 6, 100)\n",
    "a = 1\n",
    "b = 0\n",
    "c = 0\n",
    "y_model = squared_values(x_model,a,b,c)\n",
    "\n",
    "# plot data points as a scatter plot:\n",
    "plt.plot(x_values, y_values, marker='o',\n",
    "    linestyle='', color='r', label = 'Data')\n",
    "\n",
    "# plot the theory as a line plot:\n",
    "plt.plot(x_model, y_model,\n",
    "    linestyle='--', color='b', label = 'Theory: $y=x^2$')\n",
    "\n",
    "# adjusting the axes and labels to be displayed\n",
    "plt.axis([0, 10, 0, 40])\n",
    "plt.xlabel(\"$x$\",fontsize = 16)\n",
    "plt.ylabel(\"$y$\",fontsize = 16)\n",
    "plt.legend()\n",
    "\n",
    "# show plot on screen:\n",
    "plt.show()"
   ]
  },
  {
   "cell_type": "markdown",
   "metadata": {
    "id": "gnsiWHome86G"
   },
   "source": [
    "logarithmic axes"
   ]
  },
  {
   "cell_type": "code",
   "execution_count": null,
   "metadata": {
    "colab": {
     "base_uri": "https://localhost:8080/",
     "height": 298
    },
    "executionInfo": {
     "elapsed": 646,
     "status": "ok",
     "timestamp": 1664729073176,
     "user": {
      "displayName": "Jörg Menche",
      "userId": "13346392048312248628"
     },
     "user_tz": -120
    },
    "id": "txXHxoDAb_PS",
    "outputId": "19433660-da5b-4c28-8bf8-da39e6ae432e"
   },
   "outputs": [],
   "source": [
    "plt.clf()\n",
    "\n",
    "# plot data points as a scatter plot:\n",
    "plt.plot(x_values, y_values, marker='o',\n",
    "    linestyle='', color='r', label = 'Data')\n",
    "\n",
    "# plot the theory as a line plot:\n",
    "plt.plot(x_model, y_model,\n",
    "    linestyle='--', color='b', label = 'Theory: $y=x^2$')\n",
    "\n",
    "# adjusting the axes and labels to be displayed\n",
    "plt.axis([0.5, 10, 0.5, 100])\n",
    "plt.xlabel(\"$x$\")\n",
    "plt.ylabel(\"$y$\")\n",
    "plt.legend()\n",
    "\n",
    "plt.yscale('log')\n",
    "plt.xscale('log')\n",
    "\n",
    "# show plot on screen:\n",
    "plt.show()"
   ]
  },
  {
   "cell_type": "markdown",
   "metadata": {},
   "source": [
    "### Third exercise\n",
    "\n",
    "\n",
    "    (a) Take the exponential_approximation() function from above and plot the approximated values ($y$) for some $x$ and \n",
    "    a fixed number of terms $n$\n",
    "\n",
    "    (b) Compare the approximated values to a curve given by values coming from the numpy functions np.exp(x).\n",
    "\n",
    "    (c) Use a log scale for the $y$-axis."
   ]
  },
  {
   "cell_type": "code",
   "execution_count": null,
   "metadata": {},
   "outputs": [],
   "source": [
    "# solution\n",
    "\n",
    "\n"
   ]
  },
  {
   "cell_type": "markdown",
   "metadata": {},
   "source": [
    "## Networks!\n",
    "\n",
    "You can use the [ networkx](https://networkx.org/documentation/stable/reference/index.html) module to construct and draw directed and undirected, weighted and unweighted graphs. It provides a wide range of capabilities for working with smaller and larger networks. NetworkX provides algorithms for various graph-related tasks such as pathfinding, calculate distances, and explore connectivity within networks. It offers centrality analysis functions, supports community detection techniques and much more. \n",
    "\n",
    "This tutorial takes you through a few basic examples.\n"
   ]
  },
  {
   "cell_type": "markdown",
   "metadata": {},
   "source": [
    "### Creating and drawing an undirected graph"
   ]
  },
  {
   "cell_type": "code",
   "execution_count": null,
   "metadata": {},
   "outputs": [],
   "source": [
    "import networkx as nx\n",
    "\n",
    "# a \"plain\" graph is undirected\n",
    "G = nx.Graph()\n",
    "\n",
    "# give each a node a 'name', which is a letter in this case.\n",
    "G.add_node('a')\n",
    "\n",
    "# the add_nodes_from method allows adding nodes from a sequence, in this case a list\n",
    "nodes_to_add = ['b', 'c', 'd']\n",
    "G.add_nodes_from(nodes_to_add)\n",
    "\n",
    "# add edge from 'a' to 'b'\n",
    "# since this graph is undirected, the order doesn't matter here\n",
    "G.add_edge('a', 'b')\n",
    "\n",
    "# just like add_nodes_from, we can add edges from a sequence\n",
    "# edges should be specified as 2-tuples\n",
    "edges_to_add = [('a', 'c'), ('b', 'c'), ('c', 'd')]\n",
    "G.add_edges_from(edges_to_add)\n",
    "\n",
    "# draw the graph\n",
    "nx.draw(G, with_labels=True,node_color='lightblue', edge_color='orange', width=2,node_size=500)\n"
   ]
  },
  {
   "cell_type": "markdown",
   "metadata": {},
   "source": [
    "Customize visualiztions by using separated functions for nodes, edges and labels"
   ]
  },
  {
   "cell_type": "code",
   "execution_count": null,
   "metadata": {},
   "outputs": [],
   "source": [
    "# Draw nodes with black borders\n",
    "\n",
    "plt.figure(figsize=(7,6))\n",
    "# apply standard layout for small graphs to obtain x,y positions for nodes\n",
    "pos = nx.spring_layout(G)\n",
    "\n",
    "# draw nodes\n",
    "nx.draw_networkx_nodes(G, pos, node_color='lightblue', node_size=500, edgecolors='black', linewidths=1.5)\n",
    "\n",
    "# draw edges\n",
    "nx.draw_networkx_edges(G, pos, width=2.0, edge_color='purple',style='dashed')\n",
    "\n",
    "# draw labels\n",
    "nx.draw_networkx_labels(G, pos)\n"
   ]
  },
  {
   "cell_type": "markdown",
   "metadata": {},
   "source": [
    "This is how you get back nodes and edges from a Graph object"
   ]
  },
  {
   "cell_type": "code",
   "execution_count": null,
   "metadata": {},
   "outputs": [],
   "source": [
    "print(G.nodes())\n",
    "print('# nodes:', G.number_of_nodes())\n",
    "\n",
    "print(G.edges())\n",
    "print('# edges:', G.number_of_edges())\n",
    "\n",
    "\n"
   ]
  },
  {
   "cell_type": "markdown",
   "metadata": {},
   "source": [
    "Get the direct neighbors of a node"
   ]
  },
  {
   "cell_type": "code",
   "execution_count": null,
   "metadata": {},
   "outputs": [],
   "source": [
    "print('neighbors of node b')\n",
    "print(G.neighbors('b'))"
   ]
  },
  {
   "cell_type": "markdown",
   "metadata": {},
   "source": [
    "Sometimes you run into this cryptic iterator format (depending on your networkx version)\n"
   ]
  },
  {
   "cell_type": "code",
   "execution_count": null,
   "metadata": {},
   "outputs": [],
   "source": [
    "# Loops will help you out:\n",
    "for neighbor in G.neighbors('b'):\n",
    "    print(neighbor)\n",
    "\n",
    "\n",
    "# or you cast it simply into a list\n",
    "print(list(G.neighbors('b')))"
   ]
  },
  {
   "cell_type": "markdown",
   "metadata": {},
   "source": [
    "### Node and edge existence"
   ]
  },
  {
   "cell_type": "code",
   "execution_count": null,
   "metadata": {},
   "outputs": [],
   "source": [
    "print(G.has_node('a'))\n",
    "\n",
    "print(G.has_node('x'))\n"
   ]
  },
  {
   "cell_type": "code",
   "execution_count": null,
   "metadata": {},
   "outputs": [],
   "source": [
    "'d' in G.nodes"
   ]
  },
  {
   "cell_type": "code",
   "execution_count": null,
   "metadata": {},
   "outputs": [],
   "source": [
    "G.has_edge('a', 'b')"
   ]
  },
  {
   "cell_type": "code",
   "execution_count": null,
   "metadata": {},
   "outputs": [],
   "source": [
    "G.has_edge('b', 'a')"
   ]
  },
  {
   "cell_type": "code",
   "execution_count": null,
   "metadata": {},
   "outputs": [],
   "source": [
    "('c', 'd') in G.edges"
   ]
  },
  {
   "cell_type": "markdown",
   "metadata": {},
   "source": [
    "### degrees\n",
    "\n",
    "One of the most important questions we can ask about a node in a graph is how many other nodes it connects to. Using the `.neighbors()` method from above, we could do:"
   ]
  },
  {
   "cell_type": "code",
   "execution_count": null,
   "metadata": {},
   "outputs": [],
   "source": [
    "len(list(G.neighbors('b')))"
   ]
  },
  {
   "cell_type": "markdown",
   "metadata": {},
   "source": [
    "But this is much easier:"
   ]
  },
  {
   "cell_type": "code",
   "execution_count": null,
   "metadata": {},
   "outputs": [],
   "source": [
    "print(G.degree('b'))"
   ]
  },
  {
   "cell_type": "markdown",
   "metadata": {},
   "source": [
    "and for all the nodes:"
   ]
  },
  {
   "cell_type": "code",
   "execution_count": null,
   "metadata": {},
   "outputs": [],
   "source": [
    "print(dict(nx.degree(G)))"
   ]
  },
  {
   "cell_type": "markdown",
   "metadata": {},
   "source": [
    "degree distribution"
   ]
  },
  {
   "cell_type": "code",
   "execution_count": null,
   "metadata": {},
   "outputs": [],
   "source": [
    "\n",
    "# Create a new slightly bigger graph  \n",
    "G = nx.Graph()\n",
    "\n",
    "# Add nodes\n",
    "G.add_nodes_from([1, 2, 3, 4, 5, 6, 7])\n",
    "\n",
    "# Add edges (manually defining connections)\n",
    "edges_to_add = [(1, 2), (1, 3), (2, 3), (2, 4), (2,7), (3, 4), (4, 5), (5, 6), (6, 7)]\n",
    "G.add_edges_from(edges_to_add)\n",
    "\n",
    "# Calculate the degree of each node in the graph\n",
    "degrees = dict(G.degree())\n",
    "\n",
    "# draw the graph\n",
    "nx.draw(G, with_labels=True,node_color='lightblue', edge_color='gray', width=1,node_size=500)\n"
   ]
  },
  {
   "cell_type": "code",
   "execution_count": null,
   "metadata": {},
   "outputs": [],
   "source": [
    "# # Get a list of degree values\n",
    "degree_values = list(degrees.values())\n",
    "\n",
    "# count degree values\n",
    "degree_count = Counter(degree_values)\n",
    "print(degree_count)\n",
    "\n",
    "\n",
    "# Plot the degree distribution\n",
    "plt.figure(figsize=(7, 5))\n",
    "plt.bar(degree_count.keys(), degree_count.values(), width=0.6, edgecolor='black')\n",
    "plt.xlabel('Degree', fontsize = 16)\n",
    "plt.ylabel('Frequency', fontsize = 16)\n",
    "plt.title('Degree Distribution of the Network', fontsize = 16)\n",
    "\n",
    "plt.tick_params(axis='both', which='both', labelsize=14)  # You can adjust labelsize as needed\n",
    "plt.show()"
   ]
  },
  {
   "cell_type": "markdown",
   "metadata": {},
   "source": [
    "## loading external data\n",
    "\n",
    "Often you need to work with data sets that are located either somewhere in the internet or locally on your computer.\n",
    "\n",
    "Within this course we will only deal with local datasets that you can find and download (pull) from here: [our_datasets](https://github.com/menchelab/network_course/tree/main/data)\n",
    "\n",
    "If you work in a local Python environment, then you just have to make sure that the data you want to import is stored locally on your computer. The program only needs to know the path where it should search for your dataset."
   ]
  },
  {
   "cell_type": "code",
   "execution_count": null,
   "metadata": {},
   "outputs": [],
   "source": [
    "# for local storage\n",
    "path = '/Users/my_home/my_data/data/'\n",
    "\n",
    "G_friends = nx.read_adjlist(path + 'friends.adjlist')"
   ]
  },
  {
   "cell_type": "markdown",
   "metadata": {},
   "source": [
    "If you work with Colab notebooks the dataset needs to be stored in the google drive that you need to mount first.\n",
    "\n",
    "Here is how you do that:"
   ]
  },
  {
   "cell_type": "code",
   "execution_count": null,
   "metadata": {},
   "outputs": [],
   "source": [
    "from google.colab import drive\n",
    "\n",
    "drive.mount('/content/gdrive')\n",
    "path = '/content/gdrive/Shareddrives/MencheLab/teaching/Network_theory_lecture/exercises/WS2324/'\n",
    "\n",
    "G_friends = nx.read_adjlist(path + 'friends.adjlist')"
   ]
  },
  {
   "cell_type": "markdown",
   "metadata": {},
   "source": [
    "## Descriptive statistics"
   ]
  },
  {
   "cell_type": "code",
   "execution_count": null,
   "metadata": {},
   "outputs": [],
   "source": [
    "# define a list of data points:\n",
    "data = [3,6,7,8,8,8,10,13,16,16,20,22]\n",
    "\n",
    "# mean value\n",
    "mean = np.mean(data)\n",
    "print (\"mean value is %s\" % mean)\n",
    "\n",
    "# median\n",
    "med = np.median(data)\n",
    "print (\"median value is %s\" % med)\n",
    "\n",
    "# standard deviation\n",
    "s = np.std(data)\n",
    "print (\"standard deviation is %s\" % s)\n",
    "\n",
    "# range\n",
    "r = max(data) - min(data)\n",
    "print (\"range is %s\" % r)\n",
    "\n",
    "# mode\n",
    "mode = sc.stats.mstats.mode(data)\n",
    "\n",
    "print (\"most common value is %s, appearing %s times\" %(mode[0][0],mode[1][0]))"
   ]
  },
  {
   "cell_type": "markdown",
   "metadata": {},
   "source": [
    "### normal distribution and plotting options "
   ]
  },
  {
   "cell_type": "code",
   "execution_count": null,
   "metadata": {
    "colab": {
     "base_uri": "https://localhost:8080/",
     "height": 291
    },
    "executionInfo": {
     "elapsed": 270,
     "status": "ok",
     "timestamp": 1664729073443,
     "user": {
      "displayName": "Jörg Menche",
      "userId": "13346392048312248628"
     },
     "user_tz": -120
    },
    "id": "IiWL4ukFd_HY",
    "outputId": "b10d3f30-c18f-4ff7-892d-3f3f313aeb99"
   },
   "outputs": [],
   "source": [
    "sample_size = 200000        # number of points to be drawn \n",
    "mean_value = 1              # mean value for distribution\n",
    "standard_deviation = 1      # standard deviation for dataset 1\n",
    "\n",
    "# generating a dataset of normally distributed values with above parameters:\n",
    "data = sc.stats.norm.rvs(loc = mean_value, scale = standard_deviation, size = sample_size)\n",
    "\n",
    "# Plot histograms of the two datasets\n",
    "plt.clf()                 # clear previous plot, just in case\n",
    "plt.hist(data, histtype='step', bins = 100, density = True, color = 'r', alpha=0.95, lw = 2,\n",
    "    label = '$\\mu=%s,\\,$ \\n$\\sigma=%s$' % (mean_value,standard_deviation))\n",
    "\n",
    "# add labels\n",
    "plt.xlabel(\"$x$\",fontsize=18,labelpad=5)\n",
    "plt.ylabel(\"Frequency\",fontsize=14,labelpad=20)\n",
    "plt.legend(loc = 2,fontsize=18)\n",
    "\n",
    "# show plot on screen:\n",
    "plt.show()"
   ]
  },
  {
   "cell_type": "code",
   "execution_count": null,
   "metadata": {
    "colab": {
     "base_uri": "https://localhost:8080/",
     "height": 291
    },
    "executionInfo": {
     "elapsed": 254,
     "status": "ok",
     "timestamp": 1664729073694,
     "user": {
      "displayName": "Jörg Menche",
      "userId": "13346392048312248628"
     },
     "user_tz": -120
    },
    "id": "ElDQUq65fvko",
    "outputId": "3c4ebca1-3c11-4f6b-9c9d-ec0434fc0ec8"
   },
   "outputs": [],
   "source": [
    "sample_size = 200000        # number of points to be drawn \n",
    "mean_value = 1              # mean value for distribution\n",
    "standard_deviation = 1      # standard deviation for dataset 1\n",
    "\n",
    "# generating a dataset of normally distributed values with above parameters:\n",
    "data = sc.stats.norm.rvs(loc = mean_value, scale = standard_deviation, size = sample_size)\n",
    "\n",
    "# Plot histogramms of the dataset\n",
    "plt.clf()                 # clear previous plot, just in case\n",
    "plt.hist(data, histtype='bar', bins = 20, density = True, color = 'b', alpha=0.5, lw = 0.8, rwidth = 0.8,\n",
    "    label = '$\\mu=%s,\\,$ \\n$\\sigma=%s$' % (mean_value,standard_deviation))\n",
    "\n",
    "# add labels\n",
    "plt.xlabel(\"$x$\",fontsize=18,labelpad=5)\n",
    "plt.ylabel(\"Frequency\",fontsize=14,labelpad=20)\n",
    "plt.legend(loc = 2,fontsize=18)\n",
    "\n",
    "# show plot on screen:\n",
    "plt.show()"
   ]
  },
  {
   "cell_type": "code",
   "execution_count": null,
   "metadata": {
    "colab": {
     "base_uri": "https://localhost:8080/",
     "height": 291
    },
    "executionInfo": {
     "elapsed": 467,
     "status": "ok",
     "timestamp": 1664729074159,
     "user": {
      "displayName": "Jörg Menche",
      "userId": "13346392048312248628"
     },
     "user_tz": -120
    },
    "id": "UbTfFIukgSYJ",
    "outputId": "19830f6d-ae2a-427b-836e-0f7955f13336"
   },
   "outputs": [],
   "source": [
    "# creating x and y values for the theoretical curve\n",
    "x_theory = np.arange(-4,5,0.1)\n",
    "y_theory = stat.norm.pdf(x_theory,mean_value,standard_deviation)\n",
    "\n",
    "# Plot histogramms of the dataset\n",
    "plt.clf()                 # clear previous plot, just in case\n",
    "plt.hist(data, histtype='bar', bins = 15, density = True, color = 'b', alpha=0.5, lw = 2,rwidth = 0.8, label = 'Data')\n",
    "\n",
    "# Plot the Gaussians\n",
    "plt.plot(x_theory, y_theory,  linestyle='--', color='r', label = 'Theory')\n",
    "\n",
    "# add labels\n",
    "plt.xlabel(\"$x$\",fontsize=18,labelpad=5)\n",
    "plt.ylabel(\"Frequency\",fontsize=14,labelpad=20)\n",
    "plt.legend(loc = 2,fontsize=18)\n",
    "\n",
    "# show plot on screen:\n",
    "plt.show()\n",
    "\n",
    "\n"
   ]
  },
  {
   "cell_type": "code",
   "execution_count": null,
   "metadata": {
    "id": "4AyqJzs9hE0K"
   },
   "outputs": [],
   "source": []
  },
  {
   "cell_type": "markdown",
   "metadata": {},
   "source": [
    "## Using LLMs for coding"
   ]
  },
  {
   "cell_type": "markdown",
   "metadata": {},
   "source": [
    "1. You are primarily allowed to use ChatGPT or Bard for coding.\n",
    "\n",
    "2. Be aware that you learn coding through your own experiences.\n",
    "\n",
    "3. If you use LLMs, please mention it and provide well-documented code.\n",
    "\n",
    "4. Always review the provided code.\n",
    "\n",
    "5. Be aware that it sets higher standards."
   ]
  },
  {
   "cell_type": "markdown",
   "metadata": {},
   "source": [
    "### Examples"
   ]
  },
  {
   "cell_type": "markdown",
   "metadata": {},
   "source": [
    "Learn about differnt graph visualization options"
   ]
  },
  {
   "cell_type": "code",
   "execution_count": null,
   "metadata": {},
   "outputs": [],
   "source": [
    "G = nx.Graph()\n",
    "\n",
    "G.add_nodes_from(['a','b','c','d','e'])\n",
    "\n",
    "G.add_edges_from([('a','b'),('b','c'),('a','c'),('a','d'),('c','e')])\n",
    "\n",
    "nx.draw(G, with_labels=True)"
   ]
  },
  {
   "cell_type": "markdown",
   "metadata": {},
   "source": [
    "Let ChatGPT document your code:"
   ]
  },
  {
   "cell_type": "code",
   "execution_count": null,
   "metadata": {},
   "outputs": [],
   "source": [
    "# Import the NetworkX library for graph operations\n",
    "import networkx as nx\n",
    "\n",
    "# Create an empty undirected graph\n",
    "G = nx.Graph()\n",
    "\n",
    "# Add nodes 'a', 'b', 'c', 'd', and 'e' to the graph\n",
    "G.add_nodes_from(['a', 'b', 'c', 'd', 'e'])\n",
    "\n",
    "# Add edges to connect the nodes\n",
    "G.add_edges_from([('a', 'b'), ('b', 'c'), ('a', 'c'), ('a', 'd'), ('c', 'e')])\n",
    "\n",
    "# Draw the graph with labels for nodes\n",
    "nx.draw(G, with_labels=True)\n"
   ]
  },
  {
   "cell_type": "markdown",
   "metadata": {},
   "source": [
    "You can make it coming up with different visuals"
   ]
  },
  {
   "cell_type": "code",
   "execution_count": null,
   "metadata": {},
   "outputs": [],
   "source": [
    "pos = {'a': (0, 0), 'b': (1, 1), 'c': (2, 0), 'd': (1, .5), 'e': (1, 0)}\n",
    "nx.draw(G, pos=pos,with_labels=True, style='dashed',node_shape='s',node_color='pink', node_size=200)\n"
   ]
  },
  {
   "cell_type": "markdown",
   "metadata": {},
   "source": [
    "Avoid generating code from scratch.\n",
    "\n",
    "It's important to actively learn and understand the concepts behind the code you're working with. \n",
    "\n",
    "And it can generate running but incorrect or imprecise code.\n",
    "\n",
    "Example for degree distribution:"
   ]
  },
  {
   "cell_type": "code",
   "execution_count": null,
   "metadata": {},
   "outputs": [],
   "source": [
    "import networkx as nx\n",
    "import matplotlib.pyplot as plt\n",
    "import numpy as np\n",
    "\n",
    "# Create an empty graph\n",
    "G = nx.Graph()\n",
    "\n",
    "# Add nodes\n",
    "G.add_nodes_from([1, 2, 3, 4, 5, 6, 7])\n",
    "\n",
    "# Add edges (manually defining connections)\n",
    "edges_to_add = [(1, 2), (1, 3), (2, 3), (2, 4), (3, 4), (4, 5), (5, 6), (6, 7)]\n",
    "G.add_edges_from(edges_to_add)\n",
    "\n",
    "# Calculate the degree of each node in the graph\n",
    "degrees = dict(G.degree())\n",
    "\n",
    "# Get a list of degree values\n",
    "degree_values = list(degrees.values())\n",
    "\n",
    "# HOW TO -- N O T -- DO IT !!\n",
    "# Calculate the degree distribution (histogram)\n",
    "degree_hist = np.histogram(degree_values, bins=5)\n",
    "\n",
    "# Plot the degree distribution\n",
    "plt.figure(figsize=(8, 6))\n",
    "plt.bar(degree_hist[1][:-1], degree_hist[0], width=1.0, edgecolor='black')\n",
    "plt.xlabel('Degree')\n",
    "plt.ylabel('Frequency')\n",
    "plt.title('Degree Distribution of the Network')\n",
    "plt.grid(axis='y', linestyle='--', alpha=0.7)\n",
    "\n",
    "plt.show()\n"
   ]
  }
 ],
 "metadata": {
  "colab": {
   "authorship_tag": "ABX9TyMB6WHjnE5Q3CF+tjSN/hCl",
   "collapsed_sections": [
    "UPsEJoxH6j1l",
    "iLNJPT4qSyv7",
    "rxHiJgcVbVUx",
    "Nvfhofhcde4m",
    "ysj3sqBLfmdg",
    "YNMBb1wVm61K",
    "4hSD6iTAkW7r",
    "Xj4e4SSep2lo",
    "xlehBa7yVBo5",
    "UW3rVr8H0b0O",
    "QoCkLV6F1BF0",
    "0xUkrA3-1Sb3",
    "yHF_7Rtm10aR",
    "tGaaVpW02ND6",
    "gxeX6fi06XiO",
    "97WGOGxiemoK",
    "5Gg91NFlevAC",
    "7QodzL2te5G6"
   ],
   "provenance": [],
   "toc_visible": true
  },
  "kernelspec": {
   "display_name": "Python 3.7.0 64-bit",
   "language": "python",
   "name": "python3"
  },
  "language_info": {
   "codemirror_mode": {
    "name": "ipython",
    "version": 3
   },
   "file_extension": ".py",
   "mimetype": "text/x-python",
   "name": "python",
   "nbconvert_exporter": "python",
   "pygments_lexer": "ipython3",
   "version": "3.7.0"
  },
  "vscode": {
   "interpreter": {
    "hash": "e774977668b7c0ae8309835a5187aa7fbf7669e7d0bb59755bc63e573643edcd"
   }
  }
 },
 "nbformat": 4,
 "nbformat_minor": 0
}
